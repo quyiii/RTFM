{
 "cells": [
  {
   "cell_type": "code",
   "execution_count": 1,
   "metadata": {},
   "outputs": [],
   "source": [
    "import numpy as np"
   ]
  },
  {
   "cell_type": "code",
   "execution_count": 2,
   "metadata": {},
   "outputs": [
    {
     "name": "stdout",
     "output_type": "stream",
     "text": [
      "(113, 10, 2048)\n"
     ]
    }
   ],
   "source": [
    "data_path = '/home/quyi/workSpace/anomaly-detection/video/RTFM_QY/data/ucf-crime/i3d/test/Arson016_x264_i3d.npy'\n",
    "data = np.load(data_path)\n",
    "print(data.shape)"
   ]
  },
  {
   "cell_type": "code",
   "execution_count": 14,
   "metadata": {},
   "outputs": [
    {
     "name": "stdout",
     "output_type": "stream",
     "text": [
      "(70, 10, 2048)\n"
     ]
    }
   ],
   "source": [
    "data_path = '/home/quyi/workSpace/anomaly-detection/video/RTFM_QY/data/ucf-crime/i3d/train/Normal_Videos949_x264_i3d.npy'\n",
    "data = np.load(data_path)\n",
    "print(data.shape)"
   ]
  },
  {
   "cell_type": "code",
   "execution_count": 15,
   "metadata": {},
   "outputs": [
    {
     "name": "stdout",
     "output_type": "stream",
     "text": [
      "(225, 10, 2048)\n"
     ]
    }
   ],
   "source": [
    "data_path = '/home/quyi/workSpace/anomaly-detection/video/RTFM_QY/data/ucf-crime/i3d/train/Vandalism042_x264_i3d.npy'\n",
    "data = np.load(data_path)\n",
    "print(data.shape)"
   ]
  },
  {
   "cell_type": "code",
   "execution_count": 7,
   "metadata": {},
   "outputs": [],
   "source": [
    "import json\n",
    "import numpy as np\n",
    "\n",
    "gt_qy_path = '/home/quyi/workSpace/anomaly-detection/video/RTFM_QY/gt_detail_ucf.json'\n",
    "gt_s3r_path = '/home/quyi/workSpace/anomaly-detection/video/RTFM_QY/data/ucf-crime/ucf-crime_ground_truth.testing.json'\n",
    "\n",
    "with open(gt_qy_path, 'r') as f:\n",
    "    gt_qy = json.load(f)\n",
    "with open(gt_s3r_path, 'r') as f:\n",
    "    gt_s3r = json.load(f)\n",
    "classes = list(gt_qy.keys())"
   ]
  },
  {
   "cell_type": "code",
   "execution_count": 17,
   "metadata": {},
   "outputs": [
    {
     "name": "stdout",
     "output_type": "stream",
     "text": [
      "Arson011_x264\n",
      "1268\n",
      "1269\n",
      "1270\n",
      "1271\n",
      "1272\n",
      "1273\n",
      "1274\n",
      "1275\n",
      "1276\n",
      "1277\n",
      "1278\n",
      "1279\n",
      "Arson016_x264\n",
      "1797\n",
      "1798\n",
      "1799\n",
      "1800\n",
      "1801\n",
      "1802\n",
      "1803\n",
      "1804\n",
      "1805\n",
      "1806\n",
      "1807\n",
      "Explosion033_x264\n",
      "3157\n",
      "3158\n",
      "3159\n",
      "3160\n",
      "3161\n",
      "3162\n",
      "3163\n",
      "3164\n",
      "3165\n",
      "3166\n",
      "3167\n",
      "Shooting015_x264\n",
      "1716\n",
      "1717\n",
      "1718\n",
      "1719\n",
      "1720\n",
      "1721\n",
      "1722\n",
      "1723\n",
      "1724\n",
      "1725\n",
      "1726\n",
      "1727\n"
     ]
    }
   ],
   "source": [
    "for classname in classes:\n",
    "    for video, value in gt_qy[classname].items():\n",
    "        videoname = video[:-4]\n",
    "        qy = np.array(value['gt'])\n",
    "        s3r = np.array(gt_s3r[videoname]['labels'])\n",
    "        if not (qy == s3r).all():\n",
    "            print(videoname)\n",
    "            for i in range(value['length']):\n",
    "                if qy[i] != s3r[i]:\n",
    "                    print(i)"
   ]
  },
  {
   "cell_type": "code",
   "execution_count": 19,
   "metadata": {},
   "outputs": [],
   "source": [
    "for classname in classes:\n",
    "    for video, value in gt_qy[classname].items():\n",
    "        videoname = video[:-4]\n",
    "        qy = np.array(value['gt'])\n",
    "        s3r = np.array(gt_s3r[videoname]['labels'])\n",
    "        if not (qy == s3r).all():\n",
    "            gt_s3r[videoname]['labels'] = value['gt']\n",
    "\n",
    "with open('./ucf-gt.json', 'w') as f:\n",
    "    json.dump(gt_s3r, f)"
   ]
  }
 ],
 "metadata": {
  "kernelspec": {
   "display_name": "vad",
   "language": "python",
   "name": "python3"
  },
  "language_info": {
   "codemirror_mode": {
    "name": "ipython",
    "version": 3
   },
   "file_extension": ".py",
   "mimetype": "text/x-python",
   "name": "python",
   "nbconvert_exporter": "python",
   "pygments_lexer": "ipython3",
   "version": "3.8.16"
  },
  "orig_nbformat": 4
 },
 "nbformat": 4,
 "nbformat_minor": 2
}
